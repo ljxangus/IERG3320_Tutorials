{
 "cells": [
  {
   "cell_type": "markdown",
   "metadata": {
    "deletable": true,
    "editable": true
   },
   "source": [
    "# IERG 3320 -- NetworkX Tutorial\n",
    "\n",
    "### How to create a matrix\n",
    "\n",
    "* (Simple) Using a list in a list"
   ]
  },
  {
   "cell_type": "code",
   "execution_count": 1,
   "metadata": {
    "collapsed": false,
    "deletable": true,
    "editable": true
   },
   "outputs": [],
   "source": [
    "matrix = list()\n",
    "for row_index in range(78):\n",
    "    matrix.append(list())\n",
    "    for coloum_index in range(78):\n",
    "        matrix[row_index].append(0)\n",
    "    "
   ]
  },
  {
   "cell_type": "markdown",
   "metadata": {
    "deletable": true,
    "editable": true
   },
   "source": [
    "* (Optional) using numpy"
   ]
  },
  {
   "cell_type": "code",
   "execution_count": 2,
   "metadata": {
    "collapsed": false,
    "deletable": true,
    "editable": true
   },
   "outputs": [
    {
     "name": "stdout",
     "output_type": "stream",
     "text": [
      "[[ 1  2  3]\n",
      " [11 12 13]\n",
      " [21 22 23]]\n"
     ]
    }
   ],
   "source": [
    "import numpy as np\n",
    "a_matrix = np.matrix([[1,2,3],[11,12,13],[21,22,23]])\n",
    "\n",
    "print a_matrix "
   ]
  },
  {
   "cell_type": "markdown",
   "metadata": {
    "deletable": true,
    "editable": true
   },
   "source": [
    "## How to use NetworkX\n",
    "### Create a graph"
   ]
  },
  {
   "cell_type": "code",
   "execution_count": 3,
   "metadata": {
    "collapsed": true,
    "deletable": true,
    "editable": true
   },
   "outputs": [],
   "source": [
    "import networkx as nx\n",
    "\n",
    "# An undirected graph\n",
    "G = nx.Graph()\n",
    "\n",
    "# A directed graph\n",
    "di_G = nx.DiGraph()"
   ]
  },
  {
   "cell_type": "markdown",
   "metadata": {
    "deletable": true,
    "editable": true
   },
   "source": [
    "## Nodes\n",
    "Note: We will use di_G since the sociamatrix in our class is a directed graph"
   ]
  },
  {
   "cell_type": "code",
   "execution_count": 4,
   "metadata": {
    "collapsed": false,
    "deletable": true,
    "editable": true
   },
   "outputs": [
    {
     "data": {
      "text/plain": [
       "[1, 2, 3, 4, 5, 'Ted']"
      ]
     },
     "execution_count": 4,
     "metadata": {},
     "output_type": "execute_result"
    }
   ],
   "source": [
    "# add one node\n",
    "di_G.add_node(1)\n",
    "\n",
    "# add multiple nodes\n",
    "di_G.add_nodes_from([2,3,4,5])\n",
    "\n",
    "# the node's label can be string\n",
    "di_G.add_node('Ted')\n",
    "\n",
    "# check exsiting nodes in the graph\n",
    "di_G.nodes()"
   ]
  },
  {
   "cell_type": "code",
   "execution_count": 5,
   "metadata": {
    "collapsed": false,
    "deletable": true,
    "editable": true
   },
   "outputs": [
    {
     "data": {
      "text/plain": [
       "[1, 2, 3, 4, 5]"
      ]
     },
     "execution_count": 5,
     "metadata": {},
     "output_type": "execute_result"
    }
   ],
   "source": [
    "# remove nodes form the graph\n",
    "di_G.remove_node('Ted')\n",
    "\n",
    "# Check the nodes again\n",
    "di_G.nodes()"
   ]
  },
  {
   "cell_type": "markdown",
   "metadata": {
    "deletable": true,
    "editable": true
   },
   "source": [
    "## Edges\n",
    "\n",
    "Can be directional or undirectional, depending on the graph type"
   ]
  },
  {
   "cell_type": "code",
   "execution_count": 6,
   "metadata": {
    "collapsed": false,
    "deletable": true,
    "editable": true
   },
   "outputs": [
    {
     "data": {
      "text/plain": [
       "[(1, 2), (1, 4), (2, 3), (2, 4)]"
      ]
     },
     "execution_count": 6,
     "metadata": {},
     "output_type": "execute_result"
    }
   ],
   "source": [
    "# add one edge (from node 1 to node 2)\n",
    "di_G.add_edge(1,2)\n",
    "\n",
    "# add multiple edges\n",
    "edge_list = [(1, 4), (2, 3), (2, 4), (2, 5)]\n",
    "di_G.add_edges_from(edge_list)\n",
    "\n",
    "# remove an edge\n",
    "di_G.remove_edge(2,5)\n",
    "\n",
    "# check the edges\n",
    "di_G.edges()"
   ]
  },
  {
   "cell_type": "markdown",
   "metadata": {
    "deletable": true,
    "editable": true
   },
   "source": [
    "Edges can have weight (default to be 1)"
   ]
  },
  {
   "cell_type": "code",
   "execution_count": 7,
   "metadata": {
    "collapsed": false,
    "deletable": true,
    "editable": true
   },
   "outputs": [],
   "source": [
    "# Add an edge with weight\n",
    "di_G.add_edge(3,4,weight=3)\n",
    "\n",
    "di_G.remove_edge(3,4)"
   ]
  },
  {
   "cell_type": "markdown",
   "metadata": {
    "deletable": true,
    "editable": true
   },
   "source": [
    "**Important Note**:\n",
    "* New nodes will be created if the ending node of an edge doesn’t exist.\n",
    "* When a node is removed, all edges related to it are also removed"
   ]
  },
  {
   "cell_type": "code",
   "execution_count": 8,
   "metadata": {
    "collapsed": false,
    "deletable": true,
    "editable": true
   },
   "outputs": [
    {
     "data": {
      "text/plain": [
       "[(1, 2), (1, 4), (2, 3), (2, 4), (3, 6)]"
      ]
     },
     "execution_count": 8,
     "metadata": {},
     "output_type": "execute_result"
    }
   ],
   "source": [
    "# Add an edge with non-exist node\n",
    "di_G.add_edge(3,6)\n",
    "\n",
    "di_G.edges()"
   ]
  },
  {
   "cell_type": "code",
   "execution_count": 9,
   "metadata": {
    "collapsed": false,
    "deletable": true,
    "editable": true
   },
   "outputs": [
    {
     "data": {
      "text/plain": [
       "[1, 2, 3, 4, 5, 6]"
      ]
     },
     "execution_count": 9,
     "metadata": {},
     "output_type": "execute_result"
    }
   ],
   "source": [
    "di_G.nodes()"
   ]
  },
  {
   "cell_type": "code",
   "execution_count": 10,
   "metadata": {
    "collapsed": false,
    "deletable": true,
    "editable": true
   },
   "outputs": [
    {
     "data": {
      "text/plain": [
       "[(1, 2), (1, 4), (2, 3), (2, 4)]"
      ]
     },
     "execution_count": 10,
     "metadata": {},
     "output_type": "execute_result"
    }
   ],
   "source": [
    "# remove node 6\n",
    "di_G.remove_node(6)\n",
    "\n",
    "di_G.edges()"
   ]
  },
  {
   "cell_type": "markdown",
   "metadata": {
    "deletable": true,
    "editable": true
   },
   "source": [
    "## How to analyse the Graph\n",
    "Properties including:\n",
    "* Density\n",
    "* In-degree\n",
    "* Out-degree\n",
    "* Betweeness\n",
    "* Closeness"
   ]
  },
  {
   "cell_type": "code",
   "execution_count": 11,
   "metadata": {
    "collapsed": false,
    "deletable": true,
    "editable": true
   },
   "outputs": [
    {
     "data": {
      "text/plain": [
       "0.2"
      ]
     },
     "execution_count": 11,
     "metadata": {},
     "output_type": "execute_result"
    }
   ],
   "source": [
    "# Density \n",
    "nx.density(di_G)"
   ]
  },
  {
   "cell_type": "code",
   "execution_count": 14,
   "metadata": {
    "collapsed": false,
    "deletable": true,
    "editable": true
   },
   "outputs": [
    {
     "name": "stdout",
     "output_type": "stream",
     "text": [
      "The in-degrees for all nodes are: {1: 0, 2: 1, 3: 1, 4: 2, 5: 0}\n",
      "The out-degree for all nodes are: {1: 2, 2: 2, 3: 0, 4: 0, 5: 0}\n"
     ]
    }
   ],
   "source": [
    "# In-degree\n",
    "members_inDgree = di_G.in_degree()\n",
    "# Out-degree\n",
    "members_outDegree = di_G.out_degree()\n",
    "\n",
    "print 'The in-degrees for all nodes are:', members_inDgree\n",
    "print 'The out-degree for all nodes are:', members_outDegree\n",
    "\n",
    "# Betweeness\n",
    "# Closeness"
   ]
  },
  {
   "cell_type": "code",
   "execution_count": null,
   "metadata": {
    "collapsed": true,
    "deletable": true,
    "editable": true
   },
   "outputs": [],
   "source": [
    "# (Optional) Draw the graph using matplotlib\n",
    "import matplotlib.pyplot as plt\n",
    "nx.draw(di_G)\n",
    "plt.show()"
   ]
  }
 ],
 "metadata": {
  "kernelspec": {
   "display_name": "Python 2",
   "language": "python",
   "name": "python2"
  },
  "language_info": {
   "codemirror_mode": {
    "name": "ipython",
    "version": 2
   },
   "file_extension": ".py",
   "mimetype": "text/x-python",
   "name": "python",
   "nbconvert_exporter": "python",
   "pygments_lexer": "ipython2",
   "version": "2.7.10"
  }
 },
 "nbformat": 4,
 "nbformat_minor": 2
}
